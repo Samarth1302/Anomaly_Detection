{
  "cells": [
    {
      "cell_type": "markdown",
      "metadata": {
        "id": "view-in-github",
        "colab_type": "text"
      },
      "source": [
        "<a href=\"https://colab.research.google.com/github/Samarth1302/IntrusionDetection/blob/main/Intrusion_Detection.ipynb\" target=\"_parent\"><img src=\"https://colab.research.google.com/assets/colab-badge.svg\" alt=\"Open In Colab\"/></a>"
      ]
    },
    {
      "cell_type": "markdown",
      "source": [
        "# Libraries and Data loading"
      ],
      "metadata": {
        "id": "fdulWva8lLtD"
      }
    },
    {
      "cell_type": "markdown",
      "source": [
        "Importing libraries"
      ],
      "metadata": {
        "id": "IHSYCL2KOxUS"
      }
    },
    {
      "cell_type": "code",
      "execution_count": null,
      "metadata": {
        "id": "Hq_xTEbaJ_SB"
      },
      "outputs": [],
      "source": [
        "import numpy as np \n",
        "import os\n",
        "import pandas as pd \n",
        "import time\n",
        "import matplotlib.pyplot as plt\n",
        "from scipy import stats\n",
        "import seaborn as sns\n",
        "from imblearn.under_sampling import RandomUnderSampler\n",
        "from sklearn.preprocessing import StandardScaler, LabelEncoder\n",
        "from sklearn import tree\n",
        "from sklearn.model_selection import cross_val_score\n",
        "from sklearn.ensemble import RandomForestClassifier as RFC\n",
        "from sklearn import metrics\n",
        "from sklearn.naive_bayes import GaussianNB\n",
        "from sklearn.model_selection import train_test_split\n",
        "from sklearn.metrics import accuracy_score"
      ]
    },
    {
      "cell_type": "markdown",
      "source": [
        "Importing dataset"
      ],
      "metadata": {
        "id": "A5QDMRNGO0sV"
      }
    },
    {
      "cell_type": "code",
      "source": [
        "from google.colab import drive\n",
        "drive.mount('/content/drive')"
      ],
      "metadata": {
        "colab": {
          "base_uri": "https://localhost:8080/"
        },
        "id": "gqH0EZiDY7dF",
        "outputId": "ae875d1b-85dd-4dac-fcdc-aadfcbf8c39f"
      },
      "execution_count": null,
      "outputs": [
        {
          "output_type": "stream",
          "name": "stdout",
          "text": [
            "Mounted at /content/drive\n"
          ]
        }
      ]
    },
    {
      "cell_type": "code",
      "execution_count": null,
      "metadata": {
        "id": "d1ieNneRJ_SH"
      },
      "outputs": [],
      "source": [
        "pd.set_option('display.max_columns', None)\n",
        "pd.set_option('display.max_rows', None)\n",
        "low_memory=False\n",
        "df1 = pd.read_csv(\"drive/MyDrive/ML_dataset/Friday-WorkingHours-Afternoon-DDos.pcap_ISCX.csv\")\n",
        "df2=pd.read_csv(\"drive/MyDrive/ML_dataset/Friday-WorkingHours-Afternoon-PortScan.pcap_ISCX.csv\")\n",
        "df3=pd.read_csv(\"drive/MyDrive/ML_dataset/Friday-WorkingHours-Morning.pcap_ISCX.csv\")\n",
        "df4=pd.read_csv(\"drive/MyDrive/ML_dataset/Monday-WorkingHours.pcap_ISCX.csv\")\n",
        "df5=pd.read_csv(\"drive/MyDrive/ML_dataset/Thursday-WorkingHours-Afternoon-Infilteration.pcap_ISCX.csv\")\n",
        "df6=pd.read_csv(\"drive/MyDrive/ML_dataset/Thursday-WorkingHours-Morning-WebAttacks.pcap_ISCX.csv\")\n",
        "df7=pd.read_csv(\"drive/MyDrive/ML_dataset/Tuesday-WorkingHours.pcap_ISCX.csv\")\n",
        "df8=pd.read_csv(\"drive/MyDrive/ML_dataset/Wednesday-workingHours.pcap_ISCX.csv\")"
      ]
    },
    {
      "cell_type": "markdown",
      "source": [
        "Concatenating dataframes"
      ],
      "metadata": {
        "id": "0yGnJp2TOp_P"
      }
    },
    {
      "cell_type": "code",
      "execution_count": null,
      "metadata": {
        "id": "CRusz92UJ_SI",
        "colab": {
          "base_uri": "https://localhost:8080/"
        },
        "outputId": "9fd7b282-1915-4088-d31d-505864842e0e"
      },
      "outputs": [
        {
          "output_type": "execute_result",
          "data": {
            "text/plain": [
              "(2830743, 79)"
            ]
          },
          "metadata": {},
          "execution_count": 99
        }
      ],
      "source": [
        "nRowsRead = None \n",
        "df = pd.concat([df1,df2])\n",
        "del df1,df2\n",
        "df = pd.concat([df,df3])\n",
        "del df3\n",
        "df = pd.concat([df,df4])\n",
        "del df4\n",
        "df = pd.concat([df,df5])\n",
        "del df5\n",
        "df = pd.concat([df,df6])\n",
        "del df6\n",
        "df = pd.concat([df,df7])\n",
        "del df7\n",
        "df = pd.concat([df,df8])\n",
        "del df8\n",
        "df.shape"
      ]
    },
    {
      "cell_type": "markdown",
      "source": [
        "#Data cleaning and pre-processing"
      ],
      "metadata": {
        "id": "_-uea9x7QruE"
      }
    },
    {
      "cell_type": "markdown",
      "source": [
        "Removing duplicates"
      ],
      "metadata": {
        "id": "8RrP7s3nOlWX"
      }
    },
    {
      "cell_type": "code",
      "execution_count": null,
      "metadata": {
        "id": "1f_ZKZotJ_SL",
        "colab": {
          "base_uri": "https://localhost:8080/"
        },
        "outputId": "ed7e3c5b-990e-4f7c-b5ce-ce0f80edc783"
      },
      "outputs": [
        {
          "output_type": "execute_result",
          "data": {
            "text/plain": [
              "BENIGN                        2273097\n",
              "DoS Hulk                       231073\n",
              "PortScan                       158930\n",
              "DDoS                           128027\n",
              "DoS GoldenEye                   10293\n",
              "FTP-Patator                      7938\n",
              "SSH-Patator                      5897\n",
              "DoS slowloris                    5796\n",
              "DoS Slowhttptest                 5499\n",
              "Bot                              1966\n",
              "Web Attack � Brute Force         1507\n",
              "Web Attack � XSS                  652\n",
              "Infiltration                       36\n",
              "Web Attack � Sql Injection         21\n",
              "Heartbleed                         11\n",
              "Name:  Label, dtype: int64"
            ]
          },
          "metadata": {},
          "execution_count": 100
        }
      ],
      "source": [
        "df[' Label'].value_counts()"
      ]
    },
    {
      "cell_type": "code",
      "source": [
        "df.duplicated().sum()"
      ],
      "metadata": {
        "id": "5ih40y3Q27Ir",
        "colab": {
          "base_uri": "https://localhost:8080/"
        },
        "outputId": "11eb731a-c15a-47c5-cd69-6538f5e8e6d5"
      },
      "execution_count": null,
      "outputs": [
        {
          "output_type": "execute_result",
          "data": {
            "text/plain": [
              "308381"
            ]
          },
          "metadata": {},
          "execution_count": 101
        }
      ]
    },
    {
      "cell_type": "code",
      "source": [
        "df = df.drop_duplicates(keep=\"first\")"
      ],
      "metadata": {
        "id": "zBR1sH1-0mkX"
      },
      "execution_count": null,
      "outputs": []
    },
    {
      "cell_type": "code",
      "source": [
        "df.duplicated().sum()"
      ],
      "metadata": {
        "id": "MGKnKm_m26Kl",
        "colab": {
          "base_uri": "https://localhost:8080/"
        },
        "outputId": "6a8f4792-8ae3-4230-c17d-9f98dd7b09b7"
      },
      "execution_count": null,
      "outputs": [
        {
          "output_type": "execute_result",
          "data": {
            "text/plain": [
              "0"
            ]
          },
          "metadata": {},
          "execution_count": 103
        }
      ]
    },
    {
      "cell_type": "markdown",
      "source": [
        "Removing null values"
      ],
      "metadata": {
        "id": "FJ3S8DwpO5Ji"
      }
    },
    {
      "cell_type": "code",
      "source": [
        "df.isnull().sum().sort_values(ascending = False)"
      ],
      "metadata": {
        "id": "kst93nOV3hM0"
      },
      "execution_count": null,
      "outputs": []
    },
    {
      "cell_type": "code",
      "source": [
        "df.dropna(inplace=True)"
      ],
      "metadata": {
        "id": "SbwilFxF4AVD"
      },
      "execution_count": null,
      "outputs": []
    },
    {
      "cell_type": "code",
      "source": [
        "df.isnull().sum().sort_values(ascending = False)"
      ],
      "metadata": {
        "id": "hRnk98Sb4vaj"
      },
      "execution_count": null,
      "outputs": []
    },
    {
      "cell_type": "markdown",
      "source": [
        "Removing classes with less than 10,000 rows"
      ],
      "metadata": {
        "id": "JGxkX-53O93p"
      }
    },
    {
      "cell_type": "code",
      "source": [
        "df=df.groupby(' Label').filter(lambda x:len(x)>10000)\n",
        "df[' Label'].value_counts()"
      ],
      "metadata": {
        "id": "wJGKFptg7IiY",
        "colab": {
          "base_uri": "https://localhost:8080/"
        },
        "outputId": "4558390c-d5a5-4440-cdd1-faac1467b0e7"
      },
      "execution_count": null,
      "outputs": [
        {
          "output_type": "execute_result",
          "data": {
            "text/plain": [
              "BENIGN           2096134\n",
              "DoS Hulk          172846\n",
              "DDoS              128016\n",
              "PortScan           90819\n",
              "DoS GoldenEye      10286\n",
              "Name:  Label, dtype: int64"
            ]
          },
          "metadata": {},
          "execution_count": 107
        }
      ]
    },
    {
      "cell_type": "markdown",
      "source": [
        "Reducing Memory usage by downcasting"
      ],
      "metadata": {
        "id": "oc0YAERfPKRb"
      }
    },
    {
      "cell_type": "code",
      "execution_count": null,
      "metadata": {
        "id": "3bcNEvrCJ_SL"
      },
      "outputs": [],
      "source": [
        "integer = []\n",
        "f = []\n",
        "for i in df.columns[:-1]:\n",
        "    if df[i].dtype == \"int64\": integer.append(i)\n",
        "    else : f.append(i)\n",
        "\n",
        "df[integer] = df[integer].astype(\"int32\")\n",
        "df[f] = df[f].astype(\"float32\")"
      ]
    },
    {
      "cell_type": "code",
      "execution_count": null,
      "metadata": {
        "id": "9luk3-m-J_SN"
      },
      "outputs": [],
      "source": [
        "df = df[~df.isin([np.nan, np.inf, -np.inf]).any(axis=1)]"
      ]
    },
    {
      "cell_type": "markdown",
      "source": [
        "# Correlation"
      ],
      "metadata": {
        "id": "y-zJgNwhQv06"
      }
    },
    {
      "cell_type": "markdown",
      "source": [
        "Finding correlation between features"
      ],
      "metadata": {
        "id": "a41oVE9LPW7l"
      }
    },
    {
      "cell_type": "code",
      "source": [
        "def correlation(dataset, threshold):\n",
        "    col_corr = set()  \n",
        "    corr_matrix = dataset.corr()\n",
        "    for i in range(len(corr_matrix.columns)):\n",
        "        for j in range(i):\n",
        "            if abs(corr_matrix.iloc[i, j]) > threshold: \n",
        "              colname = corr_matrix.columns[i]                  \n",
        "              col_corr.add(colname)\n",
        "    return col_corr"
      ],
      "metadata": {
        "id": "ZFM8O_GNo60-"
      },
      "execution_count": null,
      "outputs": []
    },
    {
      "cell_type": "code",
      "source": [
        "corr_features = correlation(df, 0.85)\n",
        "corr_features"
      ],
      "metadata": {
        "id": "4sBYcKlFpuIU"
      },
      "execution_count": null,
      "outputs": []
    },
    {
      "cell_type": "code",
      "source": [
        "# sns.heatmap(df.corr(), cmap='crest')"
      ],
      "metadata": {
        "id": "rFv81vHPHC7c"
      },
      "execution_count": null,
      "outputs": []
    },
    {
      "cell_type": "markdown",
      "source": [
        "Removing highly correlated features"
      ],
      "metadata": {
        "id": "UsNZgMmOPaP4"
      }
    },
    {
      "cell_type": "code",
      "source": [
        "df.drop(corr_features,axis=1,inplace=True)"
      ],
      "metadata": {
        "id": "X2Yolvfoqvdw"
      },
      "execution_count": null,
      "outputs": []
    },
    {
      "cell_type": "code",
      "source": [
        "plt.figure(figsize=(20,10), facecolor='w')\n",
        "sns.boxplot(data=df)\n",
        "plt.show()"
      ],
      "metadata": {
        "id": "CLO7bkrH_Euh"
      },
      "execution_count": null,
      "outputs": []
    },
    {
      "cell_type": "code",
      "execution_count": null,
      "metadata": {
        "id": "Q3IE3FYMJ_SO"
      },
      "outputs": [],
      "source": [
        "x = df.drop([' Label'],axis=1)\n",
        "y = df[' Label']"
      ]
    },
    {
      "cell_type": "code",
      "source": [
        "x.head()"
      ],
      "metadata": {
        "id": "6qoh6JQVjuAF"
      },
      "execution_count": null,
      "outputs": []
    },
    {
      "cell_type": "markdown",
      "source": [
        "# Undersampling"
      ],
      "metadata": {
        "id": "c13rILE_lXtu"
      }
    },
    {
      "cell_type": "markdown",
      "source": [
        "Using undersampling to balance data and remove bias"
      ],
      "metadata": {
        "id": "ctOAYYiUPfW5"
      }
    },
    {
      "cell_type": "code",
      "source": [
        "rus = RandomUnderSampler(random_state=0)\n",
        "rus.fit(x, y)\n",
        "Xn, yn = rus.fit_resample(x, y)"
      ],
      "metadata": {
        "id": "6-w4exuwE5gY"
      },
      "execution_count": null,
      "outputs": []
    },
    {
      "cell_type": "code",
      "source": [
        "Xn.head()\n",
        "Xn.shape"
      ],
      "metadata": {
        "id": "7212RsNjg4bl",
        "colab": {
          "base_uri": "https://localhost:8080/"
        },
        "outputId": "908b7f24-b6c2-481d-dab7-c674da2ccb88"
      },
      "execution_count": null,
      "outputs": [
        {
          "output_type": "execute_result",
          "data": {
            "text/plain": [
              "(51430, 41)"
            ]
          },
          "metadata": {},
          "execution_count": 115
        }
      ]
    },
    {
      "cell_type": "markdown",
      "source": [
        "# PCA for dimensionality reduction"
      ],
      "metadata": {
        "id": "7ij-I36GPkqc"
      }
    },
    {
      "cell_type": "code",
      "source": [
        "# from sklearn.feature_selection import VarianceThreshold\n",
        "# constant_filter = VarianceThreshold(threshold=0)\n",
        "# constant_filter.fit(Xn)\n",
        "# constant_filter.get_support()\n",
        "# constant_columns = [column for column in Xn.columns if column not in Xn.columns[constant_filter.get_support()]]\n",
        "# Xn = Xn.drop(constant_columns,axis=1)\n",
        "# print(constant_columns)\n",
        "# Xn.shape\n",
        "\n",
        "\n",
        "X_std_pca = np.empty((51430,41))\n",
        "def myPCA(nn):\n",
        "\n",
        "  from sklearn import decomposition, datasets\n",
        "  from sklearn.preprocessing import StandardScaler\n",
        "\n",
        "  std_slc = StandardScaler()\n",
        "  X_std = std_slc.fit_transform(Xn)\n",
        "  \n",
        "  pca = decomposition.PCA(n_components=nn)\n",
        "  X_std_pca = pca.fit_transform(X_std)"
      ],
      "metadata": {
        "id": "vR2uVRDie_EQ"
      },
      "execution_count": null,
      "outputs": []
    },
    {
      "cell_type": "markdown",
      "source": [
        "# ANOVA to choose k-best features"
      ],
      "metadata": {
        "id": "68SNZPSNnBoO"
      }
    },
    {
      "cell_type": "code",
      "source": [
        "from sklearn.feature_selection import SelectKBest\n",
        "from sklearn.feature_selection import f_classif\n",
        "from sklearn.model_selection import train_test_split\n",
        "def select_features(X_train, y_train, X_test,n_features):\n",
        "  fs = SelectKBest(score_func=f_classif, k=n_features)\n",
        "  fs.fit(X_train, y_train)\n",
        "  X_train_fs = fs.transform(X_train)\n",
        "  X_test_fs = fs.transform(X_test)\n",
        "  return X_train_fs, X_test_fs, fs"
      ],
      "metadata": {
        "id": "3XC4sAlHnH2i"
      },
      "execution_count": null,
      "outputs": []
    },
    {
      "cell_type": "code",
      "source": [
        "X_train, X_test, y_train, y_test = train_test_split(Xn, yn, test_size=0.30, random_state=1)"
      ],
      "metadata": {
        "id": "y1CsbWAYoMh2"
      },
      "execution_count": null,
      "outputs": []
    },
    {
      "cell_type": "code",
      "source": [
        "org_X_train = X_train\n",
        "org_X_test = X_test"
      ],
      "metadata": {
        "id": "aMlmiwgc5YKv"
      },
      "execution_count": null,
      "outputs": []
    },
    {
      "cell_type": "markdown",
      "source": [
        "# Plot confusion matrix"
      ],
      "metadata": {
        "id": "z-6vGgCbPvLc"
      }
    },
    {
      "cell_type": "code",
      "execution_count": null,
      "metadata": {
        "id": "SnYNfwWqJ_SQ"
      },
      "outputs": [],
      "source": [
        "def plot_confusion_matrix(cm,title,cmap=None,target=None,normalize=False):\n",
        "\n",
        "    import itertools\n",
        "    accuracy = np.trace(cm) / float(np.sum(cm))\n",
        "    misclass = 1 - accuracy\n",
        "\n",
        "    if cmap is None:\n",
        "        cmap = plt.get_cmap('viridis')\n",
        "    plt.figure(figsize=(20, 20))\n",
        "    plt.imshow(cm, interpolation='nearest', cmap=cmap)\n",
        "    plt.title(title)\n",
        "    plt.colorbar()\n",
        "\n",
        "    if target is not None:\n",
        "        ticks = np.arange(len(target))\n",
        "        plt.xticks(ticks, target, rotation=45)\n",
        "        plt.yticks(ticks, target)\n",
        "    if normalize:\n",
        "        cm = cm.astype('float') / cm.sum(axis=1)[:, np.newaxis]\n",
        "\n",
        "\n",
        "    thresh = cm.max() / 1.5 if normalize else cm.max() / 2\n",
        "    for i, j in itertools.product(range(cm.shape[0]), range(cm.shape[1])):\n",
        "        if normalize:\n",
        "            plt.text(j, i, \"{:0.4f}\".format(cm[i, j]),\n",
        "                     horizontalalignment=\"center\",\n",
        "                     color=\"black\" if cm[i, j] > thresh else \"white\")\n",
        "        else:\n",
        "            plt.text(j, i, \"{:,}\".format(cm[i, j]),\n",
        "                     horizontalalignment=\"center\",\n",
        "                     color=\"black\" if cm[i, j] > thresh else \"white\")\n",
        "    plt.grid(False)\n",
        "    plt.tight_layout()\n",
        "    plt.ylabel('True label')\n",
        "    plt.xlabel('Predicted label\\naccuracy={:0.4f}; misclass={:0.4f}'.format(accuracy, misclass))\n",
        "    plt.show()\n",
        "    plt.savefig(title, bbox_inches='tight', dpi=300)"
      ]
    },
    {
      "cell_type": "markdown",
      "source": [
        "# KNN algorithm"
      ],
      "metadata": {
        "id": "HxOoU4PskYrm"
      }
    },
    {
      "cell_type": "code",
      "source": [
        "precisionkNN = []\n",
        "def kNN(neighbours):\n",
        "    from sklearn.model_selection import train_test_split\n",
        "    X_train, X_test, y_train, y_test=train_test_split(X_std_pca,yn,random_state=30)\n",
        "    scaler = StandardScaler()\n",
        "    X_train = scaler.fit_transform(X_train)\n",
        "    X_test = scaler.transform(X_test)\n",
        "\n",
        "    from sklearn import metrics\n",
        "    from sklearn.neighbors import KNeighborsClassifier\n",
        "    from sklearn.model_selection import cross_val_score\n",
        "\n",
        "    \n",
        "    KNN_Classifier = KNeighborsClassifier(n_jobs=-1, n_neighbors=neighbours, metric='minkowski', algorithm='auto')\n",
        "    KNN_Classifier.fit(X_train, y_train); \n",
        "    # print(\"Time taken to train kNN model\", time.time()-startKNN, \" seconds\")\n",
        "\n",
        "    Predict_x=KNN_Classifier.predict(X_train)\n",
        "    scores = cross_val_score(KNN_Classifier, X_train, y_train, cv=4)\n",
        "    accuracy = metrics.accuracy_score(y_train,Predict_x)\n",
        "    confusion_matrix = metrics.confusion_matrix(y_train,Predict_x)\n",
        "    classification = metrics.classification_report(y_train, Predict_x)\n",
        "\n",
        "    startKNN = time.time()\n",
        "    Predict_x=KNN_Classifier.predict(X_test)\n",
        "    scores = cross_val_score(KNN_Classifier, X_test, y_test, cv=4)\n",
        "    accuracy = metrics.accuracy_score(y_test,Predict_x)\n",
        "    confusion_matrix = metrics.confusion_matrix(y_test,Predict_x)\n",
        "    classification = metrics.classification_report(y_test, Predict_x)\n",
        "    plot_confusion_matrix(cm=confusion_matrix ,title= 'k-Nearest Neighbours Classification')\n",
        "    print(\"Time taken for execution: \", time.time()-startKNN, \" seconds\")\n",
        "    \n",
        "    print()\n",
        "    print('-------------------------- Result ----------------------')\n",
        "    print()\n",
        "    print(\"Cross Validation Mean Score:\" \"\\n\", scores.mean())\n",
        "    print()\n",
        "    print(\"Model Accuracy:\" \"\\n\", accuracy)\n",
        "    print()\n",
        "    print(\"Confusion matrix:\" \"\\n\", confusion_matrix)\n",
        "    print()\n",
        "    print(\"Classification report:\" \"\\n\", classification) \n",
        "    print()\n",
        "\n",
        "\n",
        "    precisionkNN.append(accuracy)"
      ],
      "metadata": {
        "id": "SE6dcmhAv6OB"
      },
      "execution_count": null,
      "outputs": []
    },
    {
      "cell_type": "markdown",
      "source": [
        "#Random Forest model"
      ],
      "metadata": {
        "id": "_YNmqLzwP4se"
      }
    },
    {
      "cell_type": "code",
      "source": [
        "accuracy=0\n",
        "# timetaken=time.time()\n",
        "precision=[]\n",
        "def RandomForest():\n",
        "  from sklearn.model_selection import GridSearchCV, train_test_split, cross_val_score\n",
        "  X_train, X_test, Y_train, Y_test = train_test_split(X_std_pca,yn,test_size=0.30,random_state=0)\n",
        "\n",
        "  scaler = StandardScaler()\n",
        "  X_train = scaler.fit_transform(X_train)\n",
        "  X_test = scaler.transform(X_test)\n",
        "\n",
        "  from sklearn.model_selection import cross_val_score\n",
        "  from sklearn.ensemble import RandomForestClassifier as RFC\n",
        "\n",
        "  \n",
        "  Random_Forest = RFC(max_depth=40) \n",
        "  Random_Forest.fit(X_train, Y_train) \n",
        "\n",
        "  \n",
        "  # print(\"Time taken to train model =\",timetaken)\n",
        "  Predict_X =  Random_Forest.predict(X_train)\n",
        "  scores = cross_val_score(Random_Forest, X_train, Y_train, cv=7)\n",
        "  accuracy = metrics.accuracy_score(Y_train,Predict_X)\n",
        "  confusion_matrix = metrics.confusion_matrix(Y_train, Predict_X)\n",
        "  classification = metrics.classification_report(Y_train, Predict_X)\n",
        "\n",
        "  start = time.time()\n",
        "  \n",
        "\n",
        "  Predict_X =  Random_Forest.predict(X_test)\n",
        "  scores = cross_val_score(Random_Forest, X_test, Y_test, cv=7)\n",
        "  accuracy = metrics.accuracy_score(Y_test,Predict_X)\n",
        "  confusion_matrix = metrics.confusion_matrix(Y_test, Predict_X)\n",
        "  classification = metrics.classification_report(Y_test, Predict_X)\n",
        "  plot_confusion_matrix(cm=confusion_matrix ,title= 'Random Forest Classification')\n",
        "  timetaken=time.time()-start\n",
        "  print(\"Time taken for execution = \",timetaken)\n",
        "  print()\n",
        "  print('-------------------------- Result ----------------------')\n",
        "  print()\n",
        "  print(\"Cross Validation Mean Score:\" \"\\n\", scores.mean())\n",
        "  print()\n",
        "  print(\"Model Accuracy:\" \"\\n\", accuracy)\n",
        "  print()\n",
        "  print(\"Confusion matrix:\" \"\\n\", confusion_matrix)\n",
        "  print()\n",
        "  print(\"Classification report:\" \"\\n\", classification) \n",
        "  print()\n",
        "  precision.append(accuracy)"
      ],
      "metadata": {
        "id": "pFxT-vrBuFRj"
      },
      "execution_count": null,
      "outputs": []
    },
    {
      "cell_type": "markdown",
      "source": [
        "#Gaussian Naive Bayes"
      ],
      "metadata": {
        "id": "b2gg5OuHvfrc"
      }
    },
    {
      "cell_type": "code",
      "source": [
        "X_train, X_test, y_train, y_test = train_test_split(Xn, yn, test_size = 0.3, random_state = 0)"
      ],
      "metadata": {
        "id": "0_86meKpymMO"
      },
      "execution_count": null,
      "outputs": []
    },
    {
      "cell_type": "code",
      "source": [
        "scaler  =  StandardScaler () \n",
        "X_train  =  scaler . fit_transform ( X_train ) \n",
        "X_test  =  scaler . transform ( X_test )"
      ],
      "metadata": {
        "id": "lyrGUUIr0yL8"
      },
      "execution_count": null,
      "outputs": []
    },
    {
      "cell_type": "code",
      "source": [
        "startGNB = time.time()\n",
        "gnb = GaussianNB()\n",
        "\n",
        "# fit the model\n",
        "gnb.fit(X_train, y_train)"
      ],
      "metadata": {
        "colab": {
          "base_uri": "https://localhost:8080/",
          "height": 75
        },
        "id": "zKEksiceveXZ",
        "outputId": "f6242e00-d5b5-4122-fed9-c8f40ece4baa"
      },
      "execution_count": null,
      "outputs": [
        {
          "output_type": "execute_result",
          "data": {
            "text/plain": [
              "GaussianNB()"
            ],
            "text/html": [
              "<style>#sk-container-id-6 {color: black;background-color: white;}#sk-container-id-6 pre{padding: 0;}#sk-container-id-6 div.sk-toggleable {background-color: white;}#sk-container-id-6 label.sk-toggleable__label {cursor: pointer;display: block;width: 100%;margin-bottom: 0;padding: 0.3em;box-sizing: border-box;text-align: center;}#sk-container-id-6 label.sk-toggleable__label-arrow:before {content: \"▸\";float: left;margin-right: 0.25em;color: #696969;}#sk-container-id-6 label.sk-toggleable__label-arrow:hover:before {color: black;}#sk-container-id-6 div.sk-estimator:hover label.sk-toggleable__label-arrow:before {color: black;}#sk-container-id-6 div.sk-toggleable__content {max-height: 0;max-width: 0;overflow: hidden;text-align: left;background-color: #f0f8ff;}#sk-container-id-6 div.sk-toggleable__content pre {margin: 0.2em;color: black;border-radius: 0.25em;background-color: #f0f8ff;}#sk-container-id-6 input.sk-toggleable__control:checked~div.sk-toggleable__content {max-height: 200px;max-width: 100%;overflow: auto;}#sk-container-id-6 input.sk-toggleable__control:checked~label.sk-toggleable__label-arrow:before {content: \"▾\";}#sk-container-id-6 div.sk-estimator input.sk-toggleable__control:checked~label.sk-toggleable__label {background-color: #d4ebff;}#sk-container-id-6 div.sk-label input.sk-toggleable__control:checked~label.sk-toggleable__label {background-color: #d4ebff;}#sk-container-id-6 input.sk-hidden--visually {border: 0;clip: rect(1px 1px 1px 1px);clip: rect(1px, 1px, 1px, 1px);height: 1px;margin: -1px;overflow: hidden;padding: 0;position: absolute;width: 1px;}#sk-container-id-6 div.sk-estimator {font-family: monospace;background-color: #f0f8ff;border: 1px dotted black;border-radius: 0.25em;box-sizing: border-box;margin-bottom: 0.5em;}#sk-container-id-6 div.sk-estimator:hover {background-color: #d4ebff;}#sk-container-id-6 div.sk-parallel-item::after {content: \"\";width: 100%;border-bottom: 1px solid gray;flex-grow: 1;}#sk-container-id-6 div.sk-label:hover label.sk-toggleable__label {background-color: #d4ebff;}#sk-container-id-6 div.sk-serial::before {content: \"\";position: absolute;border-left: 1px solid gray;box-sizing: border-box;top: 0;bottom: 0;left: 50%;z-index: 0;}#sk-container-id-6 div.sk-serial {display: flex;flex-direction: column;align-items: center;background-color: white;padding-right: 0.2em;padding-left: 0.2em;position: relative;}#sk-container-id-6 div.sk-item {position: relative;z-index: 1;}#sk-container-id-6 div.sk-parallel {display: flex;align-items: stretch;justify-content: center;background-color: white;position: relative;}#sk-container-id-6 div.sk-item::before, #sk-container-id-6 div.sk-parallel-item::before {content: \"\";position: absolute;border-left: 1px solid gray;box-sizing: border-box;top: 0;bottom: 0;left: 50%;z-index: -1;}#sk-container-id-6 div.sk-parallel-item {display: flex;flex-direction: column;z-index: 1;position: relative;background-color: white;}#sk-container-id-6 div.sk-parallel-item:first-child::after {align-self: flex-end;width: 50%;}#sk-container-id-6 div.sk-parallel-item:last-child::after {align-self: flex-start;width: 50%;}#sk-container-id-6 div.sk-parallel-item:only-child::after {width: 0;}#sk-container-id-6 div.sk-dashed-wrapped {border: 1px dashed gray;margin: 0 0.4em 0.5em 0.4em;box-sizing: border-box;padding-bottom: 0.4em;background-color: white;}#sk-container-id-6 div.sk-label label {font-family: monospace;font-weight: bold;display: inline-block;line-height: 1.2em;}#sk-container-id-6 div.sk-label-container {text-align: center;}#sk-container-id-6 div.sk-container {/* jupyter's `normalize.less` sets `[hidden] { display: none; }` but bootstrap.min.css set `[hidden] { display: none !important; }` so we also need the `!important` here to be able to override the default hidden behavior on the sphinx rendered scikit-learn.org. See: https://github.com/scikit-learn/scikit-learn/issues/21755 */display: inline-block !important;position: relative;}#sk-container-id-6 div.sk-text-repr-fallback {display: none;}</style><div id=\"sk-container-id-6\" class=\"sk-top-container\"><div class=\"sk-text-repr-fallback\"><pre>GaussianNB()</pre><b>In a Jupyter environment, please rerun this cell to show the HTML representation or trust the notebook. <br />On GitHub, the HTML representation is unable to render, please try loading this page with nbviewer.org.</b></div><div class=\"sk-container\" hidden><div class=\"sk-item\"><div class=\"sk-estimator sk-toggleable\"><input class=\"sk-toggleable__control sk-hidden--visually\" id=\"sk-estimator-id-6\" type=\"checkbox\" checked><label for=\"sk-estimator-id-6\" class=\"sk-toggleable__label sk-toggleable__label-arrow\">GaussianNB</label><div class=\"sk-toggleable__content\"><pre>GaussianNB()</pre></div></div></div></div></div>"
            ]
          },
          "metadata": {},
          "execution_count": 80
        }
      ]
    },
    {
      "cell_type": "code",
      "source": [
        "y_pred = gnb.predict(X_test)\n",
        "timetaken = time.time()-startGNB"
      ],
      "metadata": {
        "id": "AxV9PJTezEX2"
      },
      "execution_count": null,
      "outputs": []
    },
    {
      "cell_type": "code",
      "source": [],
      "metadata": {
        "id": "rxuw58Ej8UUc"
      },
      "execution_count": null,
      "outputs": []
    },
    {
      "cell_type": "code",
      "source": [
        "precision_gnb = []\n",
        "def GNB():\n",
        "  X_train, X_test, y_train, y_test = train_test_split(X_std_pca, yn, test_size = 0.3, random_state = 0)\n",
        "\n",
        "  scaler = StandardScaler() \n",
        "  X_train = scaler.fit_transform(X_train) \n",
        "  X_test = scaler.transform(X_test)\n",
        "\n",
        "  startGNB = time.time()\n",
        "  gnb = GaussianNB()\n",
        "  gnb.fit(X_train, y_train)\n",
        "  y_pred = gnb.predict(X_test)\n",
        "  timetaken = time.time()-startGNB\n",
        "  accuracy = metrics.accuracy_score(y_test,y_pred)\n",
        "  precision_gnb.append(accuracy)"
      ],
      "metadata": {
        "id": "ElwNRHBb5HLV"
      },
      "execution_count": null,
      "outputs": []
    },
    {
      "cell_type": "code",
      "source": [
        "num_feat = [40,35,30,25,20,15,10,5,3,1]\n",
        "\n",
        "for i in num_feat:\n",
        "  myPCA(i)\n",
        "  GNB()\n",
        "  \n",
        "\n",
        "plt.plot(num_feat,precision_gnb)\n",
        "plt.show()"
      ],
      "metadata": {
        "colab": {
          "base_uri": "https://localhost:8080/",
          "height": 430
        },
        "id": "cswjJ_Do6MBj",
        "outputId": "2f11f21a-313d-4207-e1e5-68c426192a1d"
      },
      "execution_count": null,
      "outputs": [
        {
          "output_type": "display_data",
          "data": {
            "text/plain": [
              "<Figure size 640x480 with 1 Axes>"
            ],
            "image/png": "[encoded data removed]"
          },
          "metadata": {}
        }
      ]
    },
    {
      "cell_type": "code",
      "source": [
        "accuracy = metrics.accuracy_score(y_test,y_pred)\n",
        "confusion_matrix = metrics.confusion_matrix(y_test,y_pred)\n",
        "classification = metrics.classification_report(y_test, y_pred)\n",
        "plot_confusion_matrix(cm=confusion_matrix ,title= 'Gaussian Naive Bayes Classification')\n",
        "scores = cross_val_score(gnb, X_train, y_train, cv=4)\n",
        "print(\"Time taken for execution: \", timetaken, \" seconds\")\n",
        "\n",
        "print()\n",
        "print('-------------------------- Result ----------------------')\n",
        "print()\n",
        "print(\"Cross Validation Mean Score:\" \"\\n\", scores.mean())\n",
        "print()\n",
        "print(\"Model Accuracy:\" \"\\n\", accuracy)\n",
        "print()\n",
        "print(\"Confusion matrix:\" \"\\n\", confusion_matrix)\n",
        "print()\n",
        "print(\"Classification report:\" \"\\n\", classification) \n",
        "print()"
      ],
      "metadata": {
        "id": "rwRNUglKzQdl"
      },
      "execution_count": null,
      "outputs": []
    },
    {
      "cell_type": "markdown",
      "source": [
        "# Execution and results"
      ],
      "metadata": {
        "id": "bY5LeQKzkvG2"
      }
    },
    {
      "cell_type": "code",
      "source": [
        "for i in [20,15,10,5,3]:\n",
        "  X_train_fs, X_test_fs, fs = select_features(X_train, y_train, X_test,i)\n",
        "  kNN(3)"
      ],
      "metadata": {
        "id": "nzymzX8f4kZF"
      },
      "execution_count": null,
      "outputs": []
    },
    {
      "cell_type": "code",
      "source": [
        "print(precisionkNN)\n",
        "feature_cnt=[20,15,10,5,3]\n",
        "plt.plot(feature_cnt,precisionkNN)\n",
        "plt.xlabel(\"#Features_ANOVA\")\n",
        "plt.ylabel(\"Accuracy\")\n",
        "plt.show()"
      ],
      "metadata": {
        "colab": {
          "base_uri": "https://localhost:8080/",
          "height": 297
        },
        "id": "6_9AIpUG4w01",
        "outputId": "972ecb0d-4ad9-466f-d615-a58f981082ba"
      },
      "execution_count": null,
      "outputs": [
        {
          "output_type": "stream",
          "name": "stdout",
          "text": [
            "[0.9653250372674833, 0.9718711517272668, 0.9613066303713785, 0.9512606131311168, 0.9428349212521875]\n"
          ]
        },
        {
          "output_type": "display_data",
          "data": {
            "text/plain": [
              "<Figure size 432x288 with 1 Axes>"
            ],
            "image/png": "[encoded data removed]"
          },
          "metadata": {
            "needs_background": "light"
          }
        }
      ]
    },
    {
      "cell_type": "code",
      "source": [
        "# myPCA(20)\n",
        "# #kNN()\n",
        "# precisionkNN = []\n",
        "\n",
        "# for i in [20,15,10,5,3]:\n",
        "#   print(\"Number of features =\",i)\n",
        "#   kNN(i)"
      ],
      "metadata": {
        "id": "rIh9-c6O4lut"
      },
      "execution_count": null,
      "outputs": []
    },
    {
      "cell_type": "code",
      "source": [
        "print(precisionkNN)\n",
        "feature_cnt=[20,15,10,5,3]\n",
        "plt.plot(feature_cnt,precisionkNN)\n",
        "plt.xlabel(\"#Neighbours(KNN)\")\n",
        "plt.ylabel(\"Accuracy\")\n",
        "plt.show()"
      ],
      "metadata": {
        "id": "zdDjdYYjsmwI",
        "colab": {
          "base_uri": "https://localhost:8080/",
          "height": 296
        },
        "outputId": "2da5d38b-6ad9-4039-cb02-5b16ad86bf17"
      },
      "execution_count": null,
      "outputs": [
        {
          "output_type": "stream",
          "name": "stdout",
          "text": [
            "[0.9901228806968424, 0.9912894695909161, 0.9926893762638046, 0.9947114636801991, 0.9955669622025198]\n"
          ]
        },
        {
          "output_type": "display_data",
          "data": {
            "text/plain": [
              "<Figure size 432x288 with 1 Axes>"
            ],
            "image/png": "[encoded data removed]"
          },
          "metadata": {
            "needs_background": "light"
          }
        }
      ]
    },
    {
      "cell_type": "code",
      "source": [
        "print(\"Without PCA\")\n",
        "kNN(3)\n",
        "print(\"Accuracy without PCA: \",precisionkNN[0])\n",
        "precisionkNN = []\n",
        "\n",
        "for i in [40,35,30,25,20,15,10,5,3,2,1]:\n",
        "  print(\"Number of features =\",i)\n",
        "  myPCA(i)\n",
        "  kNN(3)"
      ],
      "metadata": {
        "id": "BkgT5kp3tCsT"
      },
      "execution_count": null,
      "outputs": []
    },
    {
      "cell_type": "code",
      "source": [
        "print(precisionkNN)"
      ],
      "metadata": {
        "id": "g9-gFXkWzHCA",
        "colab": {
          "base_uri": "https://localhost:8080/"
        },
        "outputId": "cc2828e2-6e3d-42d3-f789-dd1328dc4d5b"
      },
      "execution_count": null,
      "outputs": [
        {
          "output_type": "stream",
          "name": "stdout",
          "text": [
            "[0.6585783170010888, 0.6585783170010888, 0.6585783170010888, 0.6585783170010888, 0.6585783170010888, 0.6585783170010888, 0.6585783170010888, 0.6585783170010888, 0.6585783170010888, 0.6585783170010888, 0.6585783170010888]\n"
          ]
        }
      ]
    },
    {
      "cell_type": "code",
      "source": [
        "# print(precisionkNN)\n",
        "# feature_cnt=[40,35,30,25,20,15,10,5,3,2,1]\n",
        "# plt.plot(feature_cnt,precisionkNN)\n",
        "# plt.xlabel(\"#Features\")\n",
        "# plt.ylabel(\"Accuracy\")\n",
        "# plt.show()"
      ],
      "metadata": {
        "id": "tL6YdcSq25Q7"
      },
      "execution_count": null,
      "outputs": []
    },
    {
      "cell_type": "code",
      "source": [
        "myPCA(20)\n",
        "RandomForest()"
      ],
      "metadata": {
        "id": "jkLliki74zcp"
      },
      "execution_count": null,
      "outputs": []
    },
    {
      "cell_type": "code",
      "source": [
        "print(precision)\n",
        "print(precisionkNN)"
      ],
      "metadata": {
        "id": "KyQKeMB48BV0",
        "colab": {
          "base_uri": "https://localhost:8080/"
        },
        "outputId": "3ef26648-f312-4d89-c7e5-be9330d42de2"
      },
      "execution_count": null,
      "outputs": [
        {
          "output_type": "stream",
          "name": "stdout",
          "text": [
            "[0.9990926177976538]\n",
            "[0.9901228806968424, 0.9912894695909161, 0.9926893762638046, 0.9947114636801991, 0.9955669622025198]\n"
          ]
        }
      ]
    },
    {
      "cell_type": "markdown",
      "source": [
        "\n",
        "Training and testing model for different number of features"
      ],
      "metadata": {
        "id": "a0Dv6n2qP9cr"
      }
    },
    {
      "cell_type": "code",
      "source": [
        "# print(\"Without dimensionality reduction\")\n",
        "# RandomForest()\n",
        "# print(\"Accuracy without PCA =\",precision[0])\n",
        "# precision=[]\n",
        "\n",
        "# print(\"Using PCA\")\n",
        "# for i in [40,35,30,25,20,15,10,5,3,2,1]:\n",
        "#   print(\"Number of features =\",i)\n",
        "#   myPCA(i)\n",
        "#   RandomForest()"
      ],
      "metadata": {
        "id": "RuF8MeioTqcw"
      },
      "execution_count": null,
      "outputs": []
    },
    {
      "cell_type": "markdown",
      "source": [
        "Plot for accuracy vs #features"
      ],
      "metadata": {
        "id": "hQrU86UIQFb-"
      }
    },
    {
      "cell_type": "code",
      "source": [
        "# print(precision)\n",
        "# feature_cnt=[40,35,30,25,20,15,10,5,3,2,1]\n",
        "# plt.plot(feature_cnt,precision)\n",
        "# plt.xlabel(\"#Features\")\n",
        "# plt.ylabel(\"Accuracy\")\n",
        "# plt.show()"
      ],
      "metadata": {
        "id": "cRt6QV1l_d68"
      },
      "execution_count": null,
      "outputs": []
    }
  ],
  "metadata": {
    "accelerator": "TPU",
    "colab": {
      "provenance": [],
      "collapsed_sections": [
        "fdulWva8lLtD",
        "_-uea9x7QruE",
        "y-zJgNwhQv06",
        "c13rILE_lXtu",
        "7ij-I36GPkqc",
        "z-6vGgCbPvLc",
        "_YNmqLzwP4se"
      ],
      "toc_visible": true,
      "include_colab_link": true
    },
    "gpuClass": "standard",
    "kernelspec": {
      "display_name": "Python 3",
      "language": "python",
      "name": "python3"
    },
    "language_info": {
      "codemirror_mode": {
        "name": "ipython",
        "version": 3
      },
      "file_extension": ".py",
      "mimetype": "text/x-python",
      "name": "python",
      "nbconvert_exporter": "python",
      "pygments_lexer": "ipython3",
      "version": "3.6.6"
    }
  },
  "nbformat": 4,
  "nbformat_minor": 0
}